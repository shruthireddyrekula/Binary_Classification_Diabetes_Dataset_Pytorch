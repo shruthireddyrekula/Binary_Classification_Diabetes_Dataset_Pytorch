{
  "nbformat": 4,
  "nbformat_minor": 0,
  "metadata": {
    "colab": {
      "provenance": [],
      "toc_visible": true,
      "authorship_tag": "ABX9TyOxvHq7dQfbWpAy8OS0JUOF",
      "include_colab_link": true
    },
    "kernelspec": {
      "name": "python3",
      "display_name": "Python 3"
    },
    "language_info": {
      "name": "python"
    }
  },
  "cells": [
    {
      "cell_type": "markdown",
      "metadata": {
        "id": "view-in-github",
        "colab_type": "text"
      },
      "source": [
        "<a href=\"https://colab.research.google.com/github/shruthireddyrekula/Binary_Classification_Diabetes_Dataset_Pytorch/blob/main/Diabetes_prediction_pytorch.ipynb\" target=\"_parent\"><img src=\"https://colab.research.google.com/assets/colab-badge.svg\" alt=\"Open In Colab\"/></a>"
      ]
    },
    {
      "cell_type": "code",
      "execution_count": null,
      "metadata": {
        "id": "46m1XZpSH7gM"
      },
      "outputs": [],
      "source": [
        "import numpy as np\n",
        "import torch\n",
        "import torch.nn as nn\n",
        "import torch.optim as optim"
      ]
    },
    {
      "cell_type": "code",
      "source": [
        "# load the dataset, split into input (X) and output (y) variables\n",
        "dataset = np.loadtxt('/content/Datasets_master_pima-indians-diabetes_data.csv', delimiter=',')\n",
        "X = dataset[:,0:8]\n",
        "y = dataset[:,8]"
      ],
      "metadata": {
        "id": "DrezYnoRIGiI"
      },
      "execution_count": null,
      "outputs": []
    },
    {
      "cell_type": "code",
      "source": [
        "from sklearn.model_selection import train_test_split\n",
        "X_train, X_test, y_train, y_test = train_test_split(X, y, test_size=0.2, random_state=42)"
      ],
      "metadata": {
        "id": "aBQJ8bQdV6g7"
      },
      "execution_count": 11,
      "outputs": []
    },
    {
      "cell_type": "code",
      "source": [
        "class PimaClassifier(nn.Module):\n",
        "    def __init__(self):\n",
        "        super().__init__()\n",
        "        self.hidden1 = nn.Linear(8, 12)\n",
        "        self.act1 = nn.ReLU()\n",
        "        self.hidden2 = nn.Linear(12, 8)\n",
        "        self.act2 = nn.ReLU()\n",
        "        self.output = nn.Linear(8, 1)\n",
        "        self.act_output = nn.Sigmoid()\n",
        "\n",
        "    def forward(self, x):\n",
        "        x = self.act1(self.hidden1(x))\n",
        "        x = self.act2(self.hidden2(x))\n",
        "        x = self.act_output(self.output(x))\n",
        "        return x\n",
        "\n",
        "model = PimaClassifier()\n",
        "print(model)"
      ],
      "metadata": {
        "id": "X-y8YbmeIbGj"
      },
      "execution_count": null,
      "outputs": []
    },
    {
      "cell_type": "code",
      "source": [
        "loss_fn = nn.BCELoss()  # binary cross entropy\n",
        "optimizer = optim.Adam(model.parameters(), lr=0.001)"
      ],
      "metadata": {
        "id": "DnLRc8kMIrpD"
      },
      "execution_count": 17,
      "outputs": []
    },
    {
      "cell_type": "code",
      "source": [
        "\n",
        "n_epochs = 100\n",
        "batch_size = 10\n",
        "\n",
        "for epoch in range(n_epochs):\n",
        "    for i in range(0, len(X), batch_size):\n",
        "        Xbatch = X[i:i+batch_size]\n",
        "        y_pred = model(Xbatch)\n",
        "        ybatch = y[i:i+batch_size]\n",
        "        loss = loss_fn(y_pred, ybatch)\n",
        "        optimizer.zero_grad()\n",
        "        loss.backward()\n",
        "        optimizer.step()\n",
        "    print(f'Finished epoch {epoch}, latest loss {loss}')"
      ],
      "metadata": {
        "id": "n08WQm84IwDE"
      },
      "execution_count": null,
      "outputs": []
    },
    {
      "cell_type": "code",
      "source": [
        "# compute accuracy (no_grad is optional)\n",
        "with torch.no_grad():\n",
        "    y_pred = model(X)\n",
        "\n",
        "accuracy = (y_pred.round() == y).float().mean()\n",
        "print(f\"Accuracy {accuracy}\")"
      ],
      "metadata": {
        "colab": {
          "base_uri": "https://localhost:8080/"
        },
        "id": "-4hQT0CoI0Pe",
        "outputId": "5807a744-d44f-45ac-e7c2-a7048e96b73a"
      },
      "execution_count": 19,
      "outputs": [
        {
          "output_type": "stream",
          "name": "stdout",
          "text": [
            "Accuracy 0.7654722929000854\n"
          ]
        }
      ]
    },
    {
      "cell_type": "code",
      "source": [
        "# make probability predictions with the model\n",
        "predictions = model(X)\n",
        "# round predictions\n",
        "rounded = predictions.round()"
      ],
      "metadata": {
        "id": "BnVBBgFZI-sr"
      },
      "execution_count": 23,
      "outputs": []
    },
    {
      "cell_type": "code",
      "source": [
        "# make class predictions with the model\n",
        "predictions = (model(X) > 0.5).int()"
      ],
      "metadata": {
        "id": "-w6eJofHJFce"
      },
      "execution_count": 24,
      "outputs": []
    },
    {
      "cell_type": "code",
      "source": [
        "model.eval()\n",
        "\n",
        "# Initialize lists to store predictions and true labels\n",
        "all_preds = []\n",
        "all_labels = []\n",
        "\n",
        "# Compute predictions\n",
        "with torch.no_grad():\n",
        "    outputs = model(X_test)\n",
        "    predicted = torch.round(outputs)  # Threshold the predictions at 0.5\n",
        "    all_preds.extend(predicted.numpy())\n",
        "    all_labels.extend(y_test)\n",
        "\n",
        "# Calculate accuracy\n",
        "correct = (predicted == y_test).float().sum()\n",
        "accuracy = correct / len(y_test)\n",
        "\n",
        "print(f'Accuracy on test data: {accuracy:.4f}')"
      ],
      "metadata": {
        "id": "YDAal-yRJJ4I"
      },
      "execution_count": null,
      "outputs": []
    }
  ]
}